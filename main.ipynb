{
 "cells": [
  {
   "cell_type": "markdown",
   "metadata": {},
   "source": [
    "# Global Population Dataset\n",
    "A Global Population Snapshot: Past, Present, and Future Trends\n",
    "\n",
    "### About Dataset\n",
    "This dfset provides a comprehensive overview of global population trends, historical df, and future projections. It includes detailed information for various countries and regions, encompassing key demographic indicators such as population size, growth rates, and density.\n",
    "\n",
    "The dfset covers a broad time span, from 1980 to 2050, allowing for analysis of long-term population dynamics. It incorporates data from reputable sources like the United Nations Population Division and World Population Review, ensuring data accuracy and reliability."
   ]
  },
  {
   "cell_type": "code",
   "execution_count": 2,
   "metadata": {},
   "outputs": [],
   "source": [
    "import pandas as pd\n",
    "import matplotlib.pyplot as plt\n",
    "import seaborn as sns"
   ]
  },
  {
   "cell_type": "code",
   "execution_count": 3,
   "metadata": {},
   "outputs": [
    {
     "data": {
      "text/html": [
       "<div>\n",
       "<style scoped>\n",
       "    .dataframe tbody tr th:only-of-type {\n",
       "        vertical-align: middle;\n",
       "    }\n",
       "\n",
       "    .dataframe tbody tr th {\n",
       "        vertical-align: top;\n",
       "    }\n",
       "\n",
       "    .dataframe thead th {\n",
       "        text-align: right;\n",
       "    }\n",
       "</style>\n",
       "<table border=\"1\" class=\"dataframe\">\n",
       "  <thead>\n",
       "    <tr style=\"text-align: right;\">\n",
       "      <th></th>\n",
       "      <th>place</th>\n",
       "      <th>pop1980</th>\n",
       "      <th>pop2000</th>\n",
       "      <th>pop2010</th>\n",
       "      <th>pop2023</th>\n",
       "      <th>pop2024</th>\n",
       "      <th>pop2030</th>\n",
       "      <th>pop2050</th>\n",
       "      <th>country</th>\n",
       "      <th>area</th>\n",
       "      <th>landAreaKm</th>\n",
       "      <th>cca2</th>\n",
       "      <th>cca3</th>\n",
       "      <th>unMember</th>\n",
       "      <th>netChange</th>\n",
       "      <th>growthRate</th>\n",
       "      <th>worldPercentage</th>\n",
       "      <th>density</th>\n",
       "      <th>densityMi</th>\n",
       "      <th>rank</th>\n",
       "    </tr>\n",
       "  </thead>\n",
       "  <tbody>\n",
       "    <tr>\n",
       "      <th>0</th>\n",
       "      <td>356</td>\n",
       "      <td>687354000</td>\n",
       "      <td>1057920000</td>\n",
       "      <td>1243480000</td>\n",
       "      <td>1438070000</td>\n",
       "      <td>1450940000</td>\n",
       "      <td>1525140000</td>\n",
       "      <td>1679590000</td>\n",
       "      <td>India</td>\n",
       "      <td>3287590.0</td>\n",
       "      <td>2973190.0</td>\n",
       "      <td>IN</td>\n",
       "      <td>IND</td>\n",
       "      <td>True</td>\n",
       "      <td>0.4119</td>\n",
       "      <td>0.0089</td>\n",
       "      <td>0.1813</td>\n",
       "      <td>488.0078</td>\n",
       "      <td>1263.9403</td>\n",
       "      <td>1</td>\n",
       "    </tr>\n",
       "    <tr>\n",
       "      <th>1</th>\n",
       "      <td>156</td>\n",
       "      <td>983164000</td>\n",
       "      <td>1269580000</td>\n",
       "      <td>1351560000</td>\n",
       "      <td>1422580000</td>\n",
       "      <td>1419320000</td>\n",
       "      <td>1398150000</td>\n",
       "      <td>1260290000</td>\n",
       "      <td>China</td>\n",
       "      <td>9706961.0</td>\n",
       "      <td>9424702.9</td>\n",
       "      <td>CN</td>\n",
       "      <td>CHN</td>\n",
       "      <td>True</td>\n",
       "      <td>-0.1006</td>\n",
       "      <td>-0.0023</td>\n",
       "      <td>0.1773</td>\n",
       "      <td>150.5957</td>\n",
       "      <td>390.0429</td>\n",
       "      <td>2</td>\n",
       "    </tr>\n",
       "    <tr>\n",
       "      <th>2</th>\n",
       "      <td>840</td>\n",
       "      <td>229859000</td>\n",
       "      <td>281484000</td>\n",
       "      <td>311063000</td>\n",
       "      <td>343477000</td>\n",
       "      <td>345427000</td>\n",
       "      <td>355650000</td>\n",
       "      <td>380847000</td>\n",
       "      <td>United States</td>\n",
       "      <td>9372610.0</td>\n",
       "      <td>9147420.0</td>\n",
       "      <td>US</td>\n",
       "      <td>USA</td>\n",
       "      <td>True</td>\n",
       "      <td>0.0600</td>\n",
       "      <td>0.0057</td>\n",
       "      <td>0.0432</td>\n",
       "      <td>37.7622</td>\n",
       "      <td>97.8042</td>\n",
       "      <td>3</td>\n",
       "    </tr>\n",
       "    <tr>\n",
       "      <th>3</th>\n",
       "      <td>360</td>\n",
       "      <td>148951000</td>\n",
       "      <td>216078000</td>\n",
       "      <td>246305000</td>\n",
       "      <td>281190000</td>\n",
       "      <td>283488000</td>\n",
       "      <td>295877000</td>\n",
       "      <td>320713000</td>\n",
       "      <td>Indonesia</td>\n",
       "      <td>1904569.0</td>\n",
       "      <td>1877519.0</td>\n",
       "      <td>ID</td>\n",
       "      <td>IDN</td>\n",
       "      <td>True</td>\n",
       "      <td>0.0719</td>\n",
       "      <td>0.0082</td>\n",
       "      <td>0.0354</td>\n",
       "      <td>150.9907</td>\n",
       "      <td>391.0660</td>\n",
       "      <td>4</td>\n",
       "    </tr>\n",
       "    <tr>\n",
       "      <th>4</th>\n",
       "      <td>586</td>\n",
       "      <td>82291000</td>\n",
       "      <td>154879000</td>\n",
       "      <td>199239000</td>\n",
       "      <td>247504000</td>\n",
       "      <td>251269000</td>\n",
       "      <td>276883000</td>\n",
       "      <td>371864000</td>\n",
       "      <td>Pakistan</td>\n",
       "      <td>881912.0</td>\n",
       "      <td>770880.0</td>\n",
       "      <td>PK</td>\n",
       "      <td>PAK</td>\n",
       "      <td>True</td>\n",
       "      <td>0.1225</td>\n",
       "      <td>0.0152</td>\n",
       "      <td>0.0314</td>\n",
       "      <td>325.9509</td>\n",
       "      <td>844.2127</td>\n",
       "      <td>5</td>\n",
       "    </tr>\n",
       "  </tbody>\n",
       "</table>\n",
       "</div>"
      ],
      "text/plain": [
       "   place    pop1980     pop2000     pop2010     pop2023     pop2024  \\\n",
       "0    356  687354000  1057920000  1243480000  1438070000  1450940000   \n",
       "1    156  983164000  1269580000  1351560000  1422580000  1419320000   \n",
       "2    840  229859000   281484000   311063000   343477000   345427000   \n",
       "3    360  148951000   216078000   246305000   281190000   283488000   \n",
       "4    586   82291000   154879000   199239000   247504000   251269000   \n",
       "\n",
       "      pop2030     pop2050        country       area  landAreaKm cca2 cca3  \\\n",
       "0  1525140000  1679590000          India  3287590.0   2973190.0   IN  IND   \n",
       "1  1398150000  1260290000          China  9706961.0   9424702.9   CN  CHN   \n",
       "2   355650000   380847000  United States  9372610.0   9147420.0   US  USA   \n",
       "3   295877000   320713000      Indonesia  1904569.0   1877519.0   ID  IDN   \n",
       "4   276883000   371864000       Pakistan   881912.0    770880.0   PK  PAK   \n",
       "\n",
       "   unMember  netChange  growthRate  worldPercentage   density  densityMi  rank  \n",
       "0      True     0.4119      0.0089           0.1813  488.0078  1263.9403     1  \n",
       "1      True    -0.1006     -0.0023           0.1773  150.5957   390.0429     2  \n",
       "2      True     0.0600      0.0057           0.0432   37.7622    97.8042     3  \n",
       "3      True     0.0719      0.0082           0.0354  150.9907   391.0660     4  \n",
       "4      True     0.1225      0.0152           0.0314  325.9509   844.2127     5  "
      ]
     },
     "execution_count": 3,
     "metadata": {},
     "output_type": "execute_result"
    }
   ],
   "source": [
    "df = pd.read_csv(\"countries-table.csv\")\n",
    "df.head()\n"
   ]
  },
  {
   "cell_type": "code",
   "execution_count": 4,
   "metadata": {},
   "outputs": [
    {
     "data": {
      "text/html": [
       "<div>\n",
       "<style scoped>\n",
       "    .dataframe tbody tr th:only-of-type {\n",
       "        vertical-align: middle;\n",
       "    }\n",
       "\n",
       "    .dataframe tbody tr th {\n",
       "        vertical-align: top;\n",
       "    }\n",
       "\n",
       "    .dataframe thead th {\n",
       "        text-align: right;\n",
       "    }\n",
       "</style>\n",
       "<table border=\"1\" class=\"dataframe\">\n",
       "  <thead>\n",
       "    <tr style=\"text-align: right;\">\n",
       "      <th></th>\n",
       "      <th>place</th>\n",
       "      <th>pop1980</th>\n",
       "      <th>pop2000</th>\n",
       "      <th>pop2010</th>\n",
       "      <th>pop2023</th>\n",
       "      <th>pop2024</th>\n",
       "      <th>pop2030</th>\n",
       "      <th>pop2050</th>\n",
       "      <th>country</th>\n",
       "      <th>area</th>\n",
       "      <th>landAreaKm</th>\n",
       "      <th>cca2</th>\n",
       "      <th>cca3</th>\n",
       "      <th>unMember</th>\n",
       "      <th>netChange</th>\n",
       "      <th>growthRate</th>\n",
       "      <th>worldPercentage</th>\n",
       "      <th>density</th>\n",
       "      <th>densityMi</th>\n",
       "      <th>rank</th>\n",
       "    </tr>\n",
       "  </thead>\n",
       "  <tbody>\n",
       "    <tr>\n",
       "      <th>229</th>\n",
       "      <td>500</td>\n",
       "      <td>11339</td>\n",
       "      <td>5029</td>\n",
       "      <td>4794</td>\n",
       "      <td>4420</td>\n",
       "      <td>4389</td>\n",
       "      <td>4202</td>\n",
       "      <td>3692</td>\n",
       "      <td>Montserrat</td>\n",
       "      <td>102.00</td>\n",
       "      <td>102.00</td>\n",
       "      <td>MS</td>\n",
       "      <td>MSR</td>\n",
       "      <td>False</td>\n",
       "      <td>NaN</td>\n",
       "      <td>-0.0070</td>\n",
       "      <td>NaN</td>\n",
       "      <td>43.0294</td>\n",
       "      <td>111.4462</td>\n",
       "      <td>230</td>\n",
       "    </tr>\n",
       "    <tr>\n",
       "      <th>230</th>\n",
       "      <td>238</td>\n",
       "      <td>2252</td>\n",
       "      <td>3097</td>\n",
       "      <td>3197</td>\n",
       "      <td>3477</td>\n",
       "      <td>3470</td>\n",
       "      <td>3422</td>\n",
       "      <td>3176</td>\n",
       "      <td>Falkland Islands</td>\n",
       "      <td>12173.00</td>\n",
       "      <td>12173.00</td>\n",
       "      <td>FK</td>\n",
       "      <td>FLK</td>\n",
       "      <td>False</td>\n",
       "      <td>NaN</td>\n",
       "      <td>-0.0020</td>\n",
       "      <td>NaN</td>\n",
       "      <td>0.2851</td>\n",
       "      <td>0.7383</td>\n",
       "      <td>231</td>\n",
       "    </tr>\n",
       "    <tr>\n",
       "      <th>231</th>\n",
       "      <td>772</td>\n",
       "      <td>1664</td>\n",
       "      <td>1845</td>\n",
       "      <td>1585</td>\n",
       "      <td>2397</td>\n",
       "      <td>2506</td>\n",
       "      <td>2985</td>\n",
       "      <td>3821</td>\n",
       "      <td>Tokelau</td>\n",
       "      <td>12.00</td>\n",
       "      <td>10.00</td>\n",
       "      <td>TK</td>\n",
       "      <td>TKL</td>\n",
       "      <td>False</td>\n",
       "      <td>0.0</td>\n",
       "      <td>0.0455</td>\n",
       "      <td>NaN</td>\n",
       "      <td>250.6000</td>\n",
       "      <td>649.0540</td>\n",
       "      <td>232</td>\n",
       "    </tr>\n",
       "    <tr>\n",
       "      <th>232</th>\n",
       "      <td>570</td>\n",
       "      <td>3533</td>\n",
       "      <td>2047</td>\n",
       "      <td>1768</td>\n",
       "      <td>1817</td>\n",
       "      <td>1819</td>\n",
       "      <td>1835</td>\n",
       "      <td>1966</td>\n",
       "      <td>Niue</td>\n",
       "      <td>261.00</td>\n",
       "      <td>261.00</td>\n",
       "      <td>NU</td>\n",
       "      <td>NIU</td>\n",
       "      <td>False</td>\n",
       "      <td>NaN</td>\n",
       "      <td>0.0011</td>\n",
       "      <td>NaN</td>\n",
       "      <td>6.9693</td>\n",
       "      <td>18.0506</td>\n",
       "      <td>233</td>\n",
       "    </tr>\n",
       "    <tr>\n",
       "      <th>233</th>\n",
       "      <td>336</td>\n",
       "      <td>743</td>\n",
       "      <td>691</td>\n",
       "      <td>621</td>\n",
       "      <td>496</td>\n",
       "      <td>496</td>\n",
       "      <td>528</td>\n",
       "      <td>714</td>\n",
       "      <td>Vatican City</td>\n",
       "      <td>0.44</td>\n",
       "      <td>0.44</td>\n",
       "      <td>VA</td>\n",
       "      <td>VAT</td>\n",
       "      <td>True</td>\n",
       "      <td>NaN</td>\n",
       "      <td>0.0000</td>\n",
       "      <td>NaN</td>\n",
       "      <td>1127.2727</td>\n",
       "      <td>2919.6364</td>\n",
       "      <td>234</td>\n",
       "    </tr>\n",
       "  </tbody>\n",
       "</table>\n",
       "</div>"
      ],
      "text/plain": [
       "     place  pop1980  pop2000  pop2010  pop2023  pop2024  pop2030  pop2050  \\\n",
       "229    500    11339     5029     4794     4420     4389     4202     3692   \n",
       "230    238     2252     3097     3197     3477     3470     3422     3176   \n",
       "231    772     1664     1845     1585     2397     2506     2985     3821   \n",
       "232    570     3533     2047     1768     1817     1819     1835     1966   \n",
       "233    336      743      691      621      496      496      528      714   \n",
       "\n",
       "              country      area  landAreaKm cca2 cca3  unMember  netChange  \\\n",
       "229        Montserrat    102.00      102.00   MS  MSR     False        NaN   \n",
       "230  Falkland Islands  12173.00    12173.00   FK  FLK     False        NaN   \n",
       "231           Tokelau     12.00       10.00   TK  TKL     False        0.0   \n",
       "232              Niue    261.00      261.00   NU  NIU     False        NaN   \n",
       "233      Vatican City      0.44        0.44   VA  VAT      True        NaN   \n",
       "\n",
       "     growthRate  worldPercentage    density  densityMi  rank  \n",
       "229     -0.0070              NaN    43.0294   111.4462   230  \n",
       "230     -0.0020              NaN     0.2851     0.7383   231  \n",
       "231      0.0455              NaN   250.6000   649.0540   232  \n",
       "232      0.0011              NaN     6.9693    18.0506   233  \n",
       "233      0.0000              NaN  1127.2727  2919.6364   234  "
      ]
     },
     "execution_count": 4,
     "metadata": {},
     "output_type": "execute_result"
    }
   ],
   "source": [
    "df.tail()"
   ]
  },
  {
   "cell_type": "code",
   "execution_count": 5,
   "metadata": {},
   "outputs": [
    {
     "data": {
      "text/html": [
       "<div>\n",
       "<style scoped>\n",
       "    .dataframe tbody tr th:only-of-type {\n",
       "        vertical-align: middle;\n",
       "    }\n",
       "\n",
       "    .dataframe tbody tr th {\n",
       "        vertical-align: top;\n",
       "    }\n",
       "\n",
       "    .dataframe thead th {\n",
       "        text-align: right;\n",
       "    }\n",
       "</style>\n",
       "<table border=\"1\" class=\"dataframe\">\n",
       "  <thead>\n",
       "    <tr style=\"text-align: right;\">\n",
       "      <th></th>\n",
       "      <th>place</th>\n",
       "      <th>pop1980</th>\n",
       "      <th>pop2000</th>\n",
       "      <th>pop2010</th>\n",
       "      <th>pop2023</th>\n",
       "      <th>pop2024</th>\n",
       "      <th>pop2030</th>\n",
       "      <th>pop2050</th>\n",
       "      <th>area</th>\n",
       "      <th>landAreaKm</th>\n",
       "      <th>netChange</th>\n",
       "      <th>growthRate</th>\n",
       "      <th>worldPercentage</th>\n",
       "      <th>density</th>\n",
       "      <th>densityMi</th>\n",
       "      <th>rank</th>\n",
       "    </tr>\n",
       "  </thead>\n",
       "  <tbody>\n",
       "    <tr>\n",
       "      <th>count</th>\n",
       "      <td>234.000000</td>\n",
       "      <td>2.340000e+02</td>\n",
       "      <td>2.340000e+02</td>\n",
       "      <td>2.340000e+02</td>\n",
       "      <td>2.340000e+02</td>\n",
       "      <td>2.340000e+02</td>\n",
       "      <td>2.340000e+02</td>\n",
       "      <td>2.340000e+02</td>\n",
       "      <td>2.340000e+02</td>\n",
       "      <td>2.340000e+02</td>\n",
       "      <td>229.00000</td>\n",
       "      <td>234.000000</td>\n",
       "      <td>228.000000</td>\n",
       "      <td>234.000000</td>\n",
       "      <td>234.000000</td>\n",
       "      <td>234.000000</td>\n",
       "    </tr>\n",
       "    <tr>\n",
       "      <th>mean</th>\n",
       "      <td>439.085470</td>\n",
       "      <td>1.899993e+07</td>\n",
       "      <td>2.636699e+07</td>\n",
       "      <td>2.999963e+07</td>\n",
       "      <td>3.457263e+07</td>\n",
       "      <td>3.487289e+07</td>\n",
       "      <td>3.661291e+07</td>\n",
       "      <td>4.129358e+07</td>\n",
       "      <td>5.814500e+05</td>\n",
       "      <td>5.571123e+05</td>\n",
       "      <td>0.00969</td>\n",
       "      <td>0.009386</td>\n",
       "      <td>0.004470</td>\n",
       "      <td>461.813224</td>\n",
       "      <td>1196.096250</td>\n",
       "      <td>117.500000</td>\n",
       "    </tr>\n",
       "    <tr>\n",
       "      <th>std</th>\n",
       "      <td>253.295484</td>\n",
       "      <td>8.159549e+07</td>\n",
       "      <td>1.119369e+08</td>\n",
       "      <td>1.245868e+08</td>\n",
       "      <td>1.377936e+08</td>\n",
       "      <td>1.383476e+08</td>\n",
       "      <td>1.415883e+08</td>\n",
       "      <td>1.466625e+08</td>\n",
       "      <td>1.761841e+06</td>\n",
       "      <td>1.689972e+06</td>\n",
       "      <td>0.03435</td>\n",
       "      <td>0.013580</td>\n",
       "      <td>0.017498</td>\n",
       "      <td>2051.987189</td>\n",
       "      <td>5314.646824</td>\n",
       "      <td>67.694165</td>\n",
       "    </tr>\n",
       "    <tr>\n",
       "      <th>min</th>\n",
       "      <td>4.000000</td>\n",
       "      <td>7.430000e+02</td>\n",
       "      <td>6.910000e+02</td>\n",
       "      <td>6.210000e+02</td>\n",
       "      <td>4.960000e+02</td>\n",
       "      <td>4.960000e+02</td>\n",
       "      <td>5.280000e+02</td>\n",
       "      <td>7.140000e+02</td>\n",
       "      <td>4.400000e-01</td>\n",
       "      <td>4.400000e-01</td>\n",
       "      <td>-0.10060</td>\n",
       "      <td>-0.050400</td>\n",
       "      <td>0.000000</td>\n",
       "      <td>0.136000</td>\n",
       "      <td>0.352400</td>\n",
       "      <td>1.000000</td>\n",
       "    </tr>\n",
       "    <tr>\n",
       "      <th>25%</th>\n",
       "      <td>223.000000</td>\n",
       "      <td>2.339282e+05</td>\n",
       "      <td>3.244822e+05</td>\n",
       "      <td>3.935950e+05</td>\n",
       "      <td>4.230668e+05</td>\n",
       "      <td>4.284842e+05</td>\n",
       "      <td>4.579910e+05</td>\n",
       "      <td>5.335682e+05</td>\n",
       "      <td>2.650000e+03</td>\n",
       "      <td>2.625875e+03</td>\n",
       "      <td>0.00000</td>\n",
       "      <td>0.000150</td>\n",
       "      <td>0.000100</td>\n",
       "      <td>40.205250</td>\n",
       "      <td>104.131625</td>\n",
       "      <td>59.250000</td>\n",
       "    </tr>\n",
       "    <tr>\n",
       "      <th>50%</th>\n",
       "      <td>439.000000</td>\n",
       "      <td>3.180005e+06</td>\n",
       "      <td>4.327230e+06</td>\n",
       "      <td>4.965225e+06</td>\n",
       "      <td>5.560175e+06</td>\n",
       "      <td>5.615065e+06</td>\n",
       "      <td>6.108260e+06</td>\n",
       "      <td>6.246300e+06</td>\n",
       "      <td>8.119950e+04</td>\n",
       "      <td>7.568925e+04</td>\n",
       "      <td>0.00080</td>\n",
       "      <td>0.008550</td>\n",
       "      <td>0.000700</td>\n",
       "      <td>99.539950</td>\n",
       "      <td>257.808450</td>\n",
       "      <td>117.500000</td>\n",
       "    </tr>\n",
       "    <tr>\n",
       "      <th>75%</th>\n",
       "      <td>659.750000</td>\n",
       "      <td>9.794505e+06</td>\n",
       "      <td>1.592000e+07</td>\n",
       "      <td>1.904645e+07</td>\n",
       "      <td>2.324428e+07</td>\n",
       "      <td>2.346510e+07</td>\n",
       "      <td>2.633780e+07</td>\n",
       "      <td>3.273732e+07</td>\n",
       "      <td>4.304258e+05</td>\n",
       "      <td>4.047876e+05</td>\n",
       "      <td>0.00780</td>\n",
       "      <td>0.018450</td>\n",
       "      <td>0.003100</td>\n",
       "      <td>257.361025</td>\n",
       "      <td>666.565125</td>\n",
       "      <td>175.750000</td>\n",
       "    </tr>\n",
       "    <tr>\n",
       "      <th>max</th>\n",
       "      <td>894.000000</td>\n",
       "      <td>9.831640e+08</td>\n",
       "      <td>1.269580e+09</td>\n",
       "      <td>1.351560e+09</td>\n",
       "      <td>1.438070e+09</td>\n",
       "      <td>1.450940e+09</td>\n",
       "      <td>1.525140e+09</td>\n",
       "      <td>1.679590e+09</td>\n",
       "      <td>1.709824e+07</td>\n",
       "      <td>1.637687e+07</td>\n",
       "      <td>0.41190</td>\n",
       "      <td>0.050700</td>\n",
       "      <td>0.181300</td>\n",
       "      <td>21892.462000</td>\n",
       "      <td>56701.476600</td>\n",
       "      <td>234.000000</td>\n",
       "    </tr>\n",
       "  </tbody>\n",
       "</table>\n",
       "</div>"
      ],
      "text/plain": [
       "            place       pop1980       pop2000       pop2010       pop2023  \\\n",
       "count  234.000000  2.340000e+02  2.340000e+02  2.340000e+02  2.340000e+02   \n",
       "mean   439.085470  1.899993e+07  2.636699e+07  2.999963e+07  3.457263e+07   \n",
       "std    253.295484  8.159549e+07  1.119369e+08  1.245868e+08  1.377936e+08   \n",
       "min      4.000000  7.430000e+02  6.910000e+02  6.210000e+02  4.960000e+02   \n",
       "25%    223.000000  2.339282e+05  3.244822e+05  3.935950e+05  4.230668e+05   \n",
       "50%    439.000000  3.180005e+06  4.327230e+06  4.965225e+06  5.560175e+06   \n",
       "75%    659.750000  9.794505e+06  1.592000e+07  1.904645e+07  2.324428e+07   \n",
       "max    894.000000  9.831640e+08  1.269580e+09  1.351560e+09  1.438070e+09   \n",
       "\n",
       "            pop2024       pop2030       pop2050          area    landAreaKm  \\\n",
       "count  2.340000e+02  2.340000e+02  2.340000e+02  2.340000e+02  2.340000e+02   \n",
       "mean   3.487289e+07  3.661291e+07  4.129358e+07  5.814500e+05  5.571123e+05   \n",
       "std    1.383476e+08  1.415883e+08  1.466625e+08  1.761841e+06  1.689972e+06   \n",
       "min    4.960000e+02  5.280000e+02  7.140000e+02  4.400000e-01  4.400000e-01   \n",
       "25%    4.284842e+05  4.579910e+05  5.335682e+05  2.650000e+03  2.625875e+03   \n",
       "50%    5.615065e+06  6.108260e+06  6.246300e+06  8.119950e+04  7.568925e+04   \n",
       "75%    2.346510e+07  2.633780e+07  3.273732e+07  4.304258e+05  4.047876e+05   \n",
       "max    1.450940e+09  1.525140e+09  1.679590e+09  1.709824e+07  1.637687e+07   \n",
       "\n",
       "       netChange  growthRate  worldPercentage       density     densityMi  \\\n",
       "count  229.00000  234.000000       228.000000    234.000000    234.000000   \n",
       "mean     0.00969    0.009386         0.004470    461.813224   1196.096250   \n",
       "std      0.03435    0.013580         0.017498   2051.987189   5314.646824   \n",
       "min     -0.10060   -0.050400         0.000000      0.136000      0.352400   \n",
       "25%      0.00000    0.000150         0.000100     40.205250    104.131625   \n",
       "50%      0.00080    0.008550         0.000700     99.539950    257.808450   \n",
       "75%      0.00780    0.018450         0.003100    257.361025    666.565125   \n",
       "max      0.41190    0.050700         0.181300  21892.462000  56701.476600   \n",
       "\n",
       "             rank  \n",
       "count  234.000000  \n",
       "mean   117.500000  \n",
       "std     67.694165  \n",
       "min      1.000000  \n",
       "25%     59.250000  \n",
       "50%    117.500000  \n",
       "75%    175.750000  \n",
       "max    234.000000  "
      ]
     },
     "execution_count": 5,
     "metadata": {},
     "output_type": "execute_result"
    }
   ],
   "source": [
    "df.describe()"
   ]
  },
  {
   "cell_type": "code",
   "execution_count": 6,
   "metadata": {},
   "outputs": [
    {
     "data": {
      "text/html": [
       "<div>\n",
       "<style scoped>\n",
       "    .dataframe tbody tr th:only-of-type {\n",
       "        vertical-align: middle;\n",
       "    }\n",
       "\n",
       "    .dataframe tbody tr th {\n",
       "        vertical-align: top;\n",
       "    }\n",
       "\n",
       "    .dataframe thead th {\n",
       "        text-align: right;\n",
       "    }\n",
       "</style>\n",
       "<table border=\"1\" class=\"dataframe\">\n",
       "  <thead>\n",
       "    <tr style=\"text-align: right;\">\n",
       "      <th></th>\n",
       "      <th>count</th>\n",
       "      <th>mean</th>\n",
       "      <th>std</th>\n",
       "      <th>min</th>\n",
       "      <th>25%</th>\n",
       "      <th>50%</th>\n",
       "      <th>75%</th>\n",
       "      <th>max</th>\n",
       "    </tr>\n",
       "  </thead>\n",
       "  <tbody>\n",
       "    <tr>\n",
       "      <th>place</th>\n",
       "      <td>234.0</td>\n",
       "      <td>4.390855e+02</td>\n",
       "      <td>2.532955e+02</td>\n",
       "      <td>4.0000</td>\n",
       "      <td>223.000000</td>\n",
       "      <td>4.390000e+02</td>\n",
       "      <td>6.597500e+02</td>\n",
       "      <td>8.940000e+02</td>\n",
       "    </tr>\n",
       "    <tr>\n",
       "      <th>pop1980</th>\n",
       "      <td>234.0</td>\n",
       "      <td>1.899993e+07</td>\n",
       "      <td>8.159549e+07</td>\n",
       "      <td>743.0000</td>\n",
       "      <td>233928.250000</td>\n",
       "      <td>3.180005e+06</td>\n",
       "      <td>9.794505e+06</td>\n",
       "      <td>9.831640e+08</td>\n",
       "    </tr>\n",
       "    <tr>\n",
       "      <th>pop2000</th>\n",
       "      <td>234.0</td>\n",
       "      <td>2.636699e+07</td>\n",
       "      <td>1.119369e+08</td>\n",
       "      <td>691.0000</td>\n",
       "      <td>324482.250000</td>\n",
       "      <td>4.327230e+06</td>\n",
       "      <td>1.592000e+07</td>\n",
       "      <td>1.269580e+09</td>\n",
       "    </tr>\n",
       "    <tr>\n",
       "      <th>pop2010</th>\n",
       "      <td>234.0</td>\n",
       "      <td>2.999963e+07</td>\n",
       "      <td>1.245868e+08</td>\n",
       "      <td>621.0000</td>\n",
       "      <td>393595.000000</td>\n",
       "      <td>4.965225e+06</td>\n",
       "      <td>1.904645e+07</td>\n",
       "      <td>1.351560e+09</td>\n",
       "    </tr>\n",
       "    <tr>\n",
       "      <th>pop2023</th>\n",
       "      <td>234.0</td>\n",
       "      <td>3.457263e+07</td>\n",
       "      <td>1.377936e+08</td>\n",
       "      <td>496.0000</td>\n",
       "      <td>423066.750000</td>\n",
       "      <td>5.560175e+06</td>\n",
       "      <td>2.324428e+07</td>\n",
       "      <td>1.438070e+09</td>\n",
       "    </tr>\n",
       "    <tr>\n",
       "      <th>pop2024</th>\n",
       "      <td>234.0</td>\n",
       "      <td>3.487289e+07</td>\n",
       "      <td>1.383476e+08</td>\n",
       "      <td>496.0000</td>\n",
       "      <td>428484.250000</td>\n",
       "      <td>5.615065e+06</td>\n",
       "      <td>2.346510e+07</td>\n",
       "      <td>1.450940e+09</td>\n",
       "    </tr>\n",
       "    <tr>\n",
       "      <th>pop2030</th>\n",
       "      <td>234.0</td>\n",
       "      <td>3.661291e+07</td>\n",
       "      <td>1.415883e+08</td>\n",
       "      <td>528.0000</td>\n",
       "      <td>457991.000000</td>\n",
       "      <td>6.108260e+06</td>\n",
       "      <td>2.633780e+07</td>\n",
       "      <td>1.525140e+09</td>\n",
       "    </tr>\n",
       "    <tr>\n",
       "      <th>pop2050</th>\n",
       "      <td>234.0</td>\n",
       "      <td>4.129358e+07</td>\n",
       "      <td>1.466625e+08</td>\n",
       "      <td>714.0000</td>\n",
       "      <td>533568.250000</td>\n",
       "      <td>6.246300e+06</td>\n",
       "      <td>3.273732e+07</td>\n",
       "      <td>1.679590e+09</td>\n",
       "    </tr>\n",
       "    <tr>\n",
       "      <th>area</th>\n",
       "      <td>234.0</td>\n",
       "      <td>5.814500e+05</td>\n",
       "      <td>1.761841e+06</td>\n",
       "      <td>0.4400</td>\n",
       "      <td>2650.000000</td>\n",
       "      <td>8.119950e+04</td>\n",
       "      <td>4.304258e+05</td>\n",
       "      <td>1.709824e+07</td>\n",
       "    </tr>\n",
       "    <tr>\n",
       "      <th>landAreaKm</th>\n",
       "      <td>234.0</td>\n",
       "      <td>5.571123e+05</td>\n",
       "      <td>1.689972e+06</td>\n",
       "      <td>0.4400</td>\n",
       "      <td>2625.875000</td>\n",
       "      <td>7.568925e+04</td>\n",
       "      <td>4.047876e+05</td>\n",
       "      <td>1.637687e+07</td>\n",
       "    </tr>\n",
       "    <tr>\n",
       "      <th>netChange</th>\n",
       "      <td>229.0</td>\n",
       "      <td>9.689520e-03</td>\n",
       "      <td>3.435009e-02</td>\n",
       "      <td>-0.1006</td>\n",
       "      <td>0.000000</td>\n",
       "      <td>8.000000e-04</td>\n",
       "      <td>7.800000e-03</td>\n",
       "      <td>4.119000e-01</td>\n",
       "    </tr>\n",
       "    <tr>\n",
       "      <th>growthRate</th>\n",
       "      <td>234.0</td>\n",
       "      <td>9.385897e-03</td>\n",
       "      <td>1.358050e-02</td>\n",
       "      <td>-0.0504</td>\n",
       "      <td>0.000150</td>\n",
       "      <td>8.550000e-03</td>\n",
       "      <td>1.845000e-02</td>\n",
       "      <td>5.070000e-02</td>\n",
       "    </tr>\n",
       "    <tr>\n",
       "      <th>worldPercentage</th>\n",
       "      <td>228.0</td>\n",
       "      <td>4.470175e-03</td>\n",
       "      <td>1.749810e-02</td>\n",
       "      <td>0.0000</td>\n",
       "      <td>0.000100</td>\n",
       "      <td>7.000000e-04</td>\n",
       "      <td>3.100000e-03</td>\n",
       "      <td>1.813000e-01</td>\n",
       "    </tr>\n",
       "    <tr>\n",
       "      <th>density</th>\n",
       "      <td>234.0</td>\n",
       "      <td>4.618132e+02</td>\n",
       "      <td>2.051987e+03</td>\n",
       "      <td>0.1360</td>\n",
       "      <td>40.205250</td>\n",
       "      <td>9.953995e+01</td>\n",
       "      <td>2.573610e+02</td>\n",
       "      <td>2.189246e+04</td>\n",
       "    </tr>\n",
       "    <tr>\n",
       "      <th>densityMi</th>\n",
       "      <td>234.0</td>\n",
       "      <td>1.196096e+03</td>\n",
       "      <td>5.314647e+03</td>\n",
       "      <td>0.3524</td>\n",
       "      <td>104.131625</td>\n",
       "      <td>2.578084e+02</td>\n",
       "      <td>6.665651e+02</td>\n",
       "      <td>5.670148e+04</td>\n",
       "    </tr>\n",
       "    <tr>\n",
       "      <th>rank</th>\n",
       "      <td>234.0</td>\n",
       "      <td>1.175000e+02</td>\n",
       "      <td>6.769417e+01</td>\n",
       "      <td>1.0000</td>\n",
       "      <td>59.250000</td>\n",
       "      <td>1.175000e+02</td>\n",
       "      <td>1.757500e+02</td>\n",
       "      <td>2.340000e+02</td>\n",
       "    </tr>\n",
       "  </tbody>\n",
       "</table>\n",
       "</div>"
      ],
      "text/plain": [
       "                 count          mean           std       min            25%  \\\n",
       "place            234.0  4.390855e+02  2.532955e+02    4.0000     223.000000   \n",
       "pop1980          234.0  1.899993e+07  8.159549e+07  743.0000  233928.250000   \n",
       "pop2000          234.0  2.636699e+07  1.119369e+08  691.0000  324482.250000   \n",
       "pop2010          234.0  2.999963e+07  1.245868e+08  621.0000  393595.000000   \n",
       "pop2023          234.0  3.457263e+07  1.377936e+08  496.0000  423066.750000   \n",
       "pop2024          234.0  3.487289e+07  1.383476e+08  496.0000  428484.250000   \n",
       "pop2030          234.0  3.661291e+07  1.415883e+08  528.0000  457991.000000   \n",
       "pop2050          234.0  4.129358e+07  1.466625e+08  714.0000  533568.250000   \n",
       "area             234.0  5.814500e+05  1.761841e+06    0.4400    2650.000000   \n",
       "landAreaKm       234.0  5.571123e+05  1.689972e+06    0.4400    2625.875000   \n",
       "netChange        229.0  9.689520e-03  3.435009e-02   -0.1006       0.000000   \n",
       "growthRate       234.0  9.385897e-03  1.358050e-02   -0.0504       0.000150   \n",
       "worldPercentage  228.0  4.470175e-03  1.749810e-02    0.0000       0.000100   \n",
       "density          234.0  4.618132e+02  2.051987e+03    0.1360      40.205250   \n",
       "densityMi        234.0  1.196096e+03  5.314647e+03    0.3524     104.131625   \n",
       "rank             234.0  1.175000e+02  6.769417e+01    1.0000      59.250000   \n",
       "\n",
       "                          50%           75%           max  \n",
       "place            4.390000e+02  6.597500e+02  8.940000e+02  \n",
       "pop1980          3.180005e+06  9.794505e+06  9.831640e+08  \n",
       "pop2000          4.327230e+06  1.592000e+07  1.269580e+09  \n",
       "pop2010          4.965225e+06  1.904645e+07  1.351560e+09  \n",
       "pop2023          5.560175e+06  2.324428e+07  1.438070e+09  \n",
       "pop2024          5.615065e+06  2.346510e+07  1.450940e+09  \n",
       "pop2030          6.108260e+06  2.633780e+07  1.525140e+09  \n",
       "pop2050          6.246300e+06  3.273732e+07  1.679590e+09  \n",
       "area             8.119950e+04  4.304258e+05  1.709824e+07  \n",
       "landAreaKm       7.568925e+04  4.047876e+05  1.637687e+07  \n",
       "netChange        8.000000e-04  7.800000e-03  4.119000e-01  \n",
       "growthRate       8.550000e-03  1.845000e-02  5.070000e-02  \n",
       "worldPercentage  7.000000e-04  3.100000e-03  1.813000e-01  \n",
       "density          9.953995e+01  2.573610e+02  2.189246e+04  \n",
       "densityMi        2.578084e+02  6.665651e+02  5.670148e+04  \n",
       "rank             1.175000e+02  1.757500e+02  2.340000e+02  "
      ]
     },
     "execution_count": 6,
     "metadata": {},
     "output_type": "execute_result"
    }
   ],
   "source": [
    "df.describe().T"
   ]
  },
  {
   "cell_type": "code",
   "execution_count": 7,
   "metadata": {},
   "outputs": [
    {
     "name": "stdout",
     "output_type": "stream",
     "text": [
      "<class 'pandas.core.frame.DataFrame'>\n",
      "RangeIndex: 234 entries, 0 to 233\n",
      "Data columns (total 20 columns):\n",
      " #   Column           Non-Null Count  Dtype  \n",
      "---  ------           --------------  -----  \n",
      " 0   place            234 non-null    int64  \n",
      " 1   pop1980          234 non-null    int64  \n",
      " 2   pop2000          234 non-null    int64  \n",
      " 3   pop2010          234 non-null    int64  \n",
      " 4   pop2023          234 non-null    int64  \n",
      " 5   pop2024          234 non-null    int64  \n",
      " 6   pop2030          234 non-null    int64  \n",
      " 7   pop2050          234 non-null    int64  \n",
      " 8   country          234 non-null    object \n",
      " 9   area             234 non-null    float64\n",
      " 10  landAreaKm       234 non-null    float64\n",
      " 11  cca2             233 non-null    object \n",
      " 12  cca3             234 non-null    object \n",
      " 13  unMember         234 non-null    bool   \n",
      " 14  netChange        229 non-null    float64\n",
      " 15  growthRate       234 non-null    float64\n",
      " 16  worldPercentage  228 non-null    float64\n",
      " 17  density          234 non-null    float64\n",
      " 18  densityMi        234 non-null    float64\n",
      " 19  rank             234 non-null    int64  \n",
      "dtypes: bool(1), float64(7), int64(9), object(3)\n",
      "memory usage: 35.1+ KB\n"
     ]
    }
   ],
   "source": [
    "df.info()"
   ]
  },
  {
   "cell_type": "code",
   "execution_count": 8,
   "metadata": {},
   "outputs": [
    {
     "data": {
      "text/html": [
       "<div>\n",
       "<style scoped>\n",
       "    .dataframe tbody tr th:only-of-type {\n",
       "        vertical-align: middle;\n",
       "    }\n",
       "\n",
       "    .dataframe tbody tr th {\n",
       "        vertical-align: top;\n",
       "    }\n",
       "\n",
       "    .dataframe thead th {\n",
       "        text-align: right;\n",
       "    }\n",
       "</style>\n",
       "<table border=\"1\" class=\"dataframe\">\n",
       "  <thead>\n",
       "    <tr style=\"text-align: right;\">\n",
       "      <th></th>\n",
       "      <th>Count of unique values</th>\n",
       "    </tr>\n",
       "  </thead>\n",
       "  <tbody>\n",
       "    <tr>\n",
       "      <th>place</th>\n",
       "      <td>234</td>\n",
       "    </tr>\n",
       "    <tr>\n",
       "      <th>pop1980</th>\n",
       "      <td>234</td>\n",
       "    </tr>\n",
       "    <tr>\n",
       "      <th>pop2000</th>\n",
       "      <td>234</td>\n",
       "    </tr>\n",
       "    <tr>\n",
       "      <th>pop2010</th>\n",
       "      <td>234</td>\n",
       "    </tr>\n",
       "    <tr>\n",
       "      <th>pop2023</th>\n",
       "      <td>234</td>\n",
       "    </tr>\n",
       "    <tr>\n",
       "      <th>pop2024</th>\n",
       "      <td>234</td>\n",
       "    </tr>\n",
       "    <tr>\n",
       "      <th>pop2030</th>\n",
       "      <td>234</td>\n",
       "    </tr>\n",
       "    <tr>\n",
       "      <th>pop2050</th>\n",
       "      <td>234</td>\n",
       "    </tr>\n",
       "    <tr>\n",
       "      <th>country</th>\n",
       "      <td>234</td>\n",
       "    </tr>\n",
       "    <tr>\n",
       "      <th>area</th>\n",
       "      <td>232</td>\n",
       "    </tr>\n",
       "    <tr>\n",
       "      <th>landAreaKm</th>\n",
       "      <td>230</td>\n",
       "    </tr>\n",
       "    <tr>\n",
       "      <th>cca2</th>\n",
       "      <td>233</td>\n",
       "    </tr>\n",
       "    <tr>\n",
       "      <th>cca3</th>\n",
       "      <td>234</td>\n",
       "    </tr>\n",
       "    <tr>\n",
       "      <th>unMember</th>\n",
       "      <td>2</td>\n",
       "    </tr>\n",
       "    <tr>\n",
       "      <th>netChange</th>\n",
       "      <td>121</td>\n",
       "    </tr>\n",
       "    <tr>\n",
       "      <th>growthRate</th>\n",
       "      <td>181</td>\n",
       "    </tr>\n",
       "    <tr>\n",
       "      <th>worldPercentage</th>\n",
       "      <td>75</td>\n",
       "    </tr>\n",
       "    <tr>\n",
       "      <th>density</th>\n",
       "      <td>234</td>\n",
       "    </tr>\n",
       "    <tr>\n",
       "      <th>densityMi</th>\n",
       "      <td>234</td>\n",
       "    </tr>\n",
       "    <tr>\n",
       "      <th>rank</th>\n",
       "      <td>234</td>\n",
       "    </tr>\n",
       "  </tbody>\n",
       "</table>\n",
       "</div>"
      ],
      "text/plain": [
       "                 Count of unique values\n",
       "place                               234\n",
       "pop1980                             234\n",
       "pop2000                             234\n",
       "pop2010                             234\n",
       "pop2023                             234\n",
       "pop2024                             234\n",
       "pop2030                             234\n",
       "pop2050                             234\n",
       "country                             234\n",
       "area                                232\n",
       "landAreaKm                          230\n",
       "cca2                                233\n",
       "cca3                                234\n",
       "unMember                              2\n",
       "netChange                           121\n",
       "growthRate                          181\n",
       "worldPercentage                      75\n",
       "density                             234\n",
       "densityMi                           234\n",
       "rank                                234"
      ]
     },
     "execution_count": 8,
     "metadata": {},
     "output_type": "execute_result"
    }
   ],
   "source": [
    "df.nunique().to_frame(name='Count of unique values')\n"
   ]
  },
  {
   "cell_type": "code",
   "execution_count": 9,
   "metadata": {},
   "outputs": [
    {
     "data": {
      "image/png": "[encoded data removed]",
      "text/plain": [
       "<Figure size 640x480 with 2 Axes>"
      ]
     },
     "metadata": {},
     "output_type": "display_data"
    }
   ],
   "source": [
    "sns.heatmap(df.isnull())\n",
    "plt.show()"
   ]
  },
  {
   "cell_type": "code",
   "execution_count": 10,
   "metadata": {},
   "outputs": [
    {
     "data": {
      "text/plain": [
       "place              0\n",
       "pop1980            0\n",
       "pop2000            0\n",
       "pop2010            0\n",
       "pop2023            0\n",
       "pop2024            0\n",
       "pop2030            0\n",
       "pop2050            0\n",
       "country            0\n",
       "area               0\n",
       "landAreaKm         0\n",
       "cca2               1\n",
       "cca3               0\n",
       "unMember           0\n",
       "netChange          5\n",
       "growthRate         0\n",
       "worldPercentage    6\n",
       "density            0\n",
       "densityMi          0\n",
       "rank               0\n",
       "dtype: int64"
      ]
     },
     "execution_count": 10,
     "metadata": {},
     "output_type": "execute_result"
    }
   ],
   "source": [
    "df.isnull().sum()\n"
   ]
  },
  {
   "cell_type": "code",
   "execution_count": 11,
   "metadata": {},
   "outputs": [
    {
     "data": {
      "text/plain": [
       "cca2               1\n",
       "netChange          5\n",
       "worldPercentage    6\n",
       "dtype: int64"
      ]
     },
     "execution_count": 11,
     "metadata": {},
     "output_type": "execute_result"
    }
   ],
   "source": [
    "missing_values = df.isnull().sum()\n",
    "missing_values = missing_values[missing_values > 0]\n",
    "missing_values\n"
   ]
  },
  {
   "cell_type": "code",
   "execution_count": 12,
   "metadata": {},
   "outputs": [
    {
     "data": {
      "text/html": [
       "<div>\n",
       "<style scoped>\n",
       "    .dataframe tbody tr th:only-of-type {\n",
       "        vertical-align: middle;\n",
       "    }\n",
       "\n",
       "    .dataframe tbody tr th {\n",
       "        vertical-align: top;\n",
       "    }\n",
       "\n",
       "    .dataframe thead th {\n",
       "        text-align: right;\n",
       "    }\n",
       "</style>\n",
       "<table border=\"1\" class=\"dataframe\">\n",
       "  <thead>\n",
       "    <tr style=\"text-align: right;\">\n",
       "      <th></th>\n",
       "      <th>country</th>\n",
       "      <th>cca2</th>\n",
       "      <th>cca3</th>\n",
       "    </tr>\n",
       "  </thead>\n",
       "  <tbody>\n",
       "    <tr>\n",
       "      <th>138</th>\n",
       "      <td>Namibia</td>\n",
       "      <td>NaN</td>\n",
       "      <td>NAM</td>\n",
       "    </tr>\n",
       "  </tbody>\n",
       "</table>\n",
       "</div>"
      ],
      "text/plain": [
       "     country cca2 cca3\n",
       "138  Namibia  NaN  NAM"
      ]
     },
     "execution_count": 12,
     "metadata": {},
     "output_type": "execute_result"
    }
   ],
   "source": [
    "missing_cca2_row = df[df['cca2'].isnull()]\n",
    "missing_cca2_row[['country', 'cca2', 'cca3']]\n"
   ]
  },
  {
   "cell_type": "code",
   "execution_count": 13,
   "metadata": {},
   "outputs": [
    {
     "data": {
      "text/plain": [
       "country    Namibia\n",
       "cca2            NA\n",
       "cca3           NAM\n",
       "Name: 138, dtype: object"
      ]
     },
     "execution_count": 13,
     "metadata": {},
     "output_type": "execute_result"
    }
   ],
   "source": [
    "df.loc[df['country'] == 'Namibia', 'cca2'] = 'NA'\n",
    "\n",
    "df.loc[138, ['country', 'cca2', 'cca3']]\n"
   ]
  },
  {
   "cell_type": "code",
   "execution_count": 14,
   "metadata": {},
   "outputs": [
    {
     "data": {
      "text/plain": [
       "np.int64(5)"
      ]
     },
     "execution_count": 14,
     "metadata": {},
     "output_type": "execute_result"
    }
   ],
   "source": [
    "df[\"netChange\"].isnull().sum()"
   ]
  },
  {
   "cell_type": "code",
   "execution_count": 15,
   "metadata": {},
   "outputs": [
    {
     "data": {
      "text/plain": [
       "netChange\n",
       " 0.0000    46\n",
       " 0.0001    12\n",
       " 0.0002     9\n",
       "-0.0001     5\n",
       " 0.0013     4\n",
       "           ..\n",
       " 0.0046     1\n",
       " 0.0021     1\n",
       " 0.0018     1\n",
       "-0.0006     1\n",
       "-0.0004     1\n",
       "Name: count, Length: 121, dtype: int64"
      ]
     },
     "execution_count": 15,
     "metadata": {},
     "output_type": "execute_result"
    }
   ],
   "source": [
    "df[\"netChange\"].value_counts()"
   ]
  },
  {
   "cell_type": "code",
   "execution_count": 16,
   "metadata": {},
   "outputs": [
    {
     "data": {
      "text/plain": [
       "np.float64(0.0008)"
      ]
     },
     "execution_count": 16,
     "metadata": {},
     "output_type": "execute_result"
    }
   ],
   "source": [
    "df[\"netChange\"].median()"
   ]
  },
  {
   "cell_type": "code",
   "execution_count": 17,
   "metadata": {},
   "outputs": [
    {
     "data": {
      "text/plain": [
       "0      0.4119\n",
       "1     -0.1006\n",
       "2      0.0600\n",
       "3      0.0719\n",
       "4      0.1225\n",
       "        ...  \n",
       "229    0.0008\n",
       "230    0.0008\n",
       "231    0.0000\n",
       "232    0.0008\n",
       "233    0.0008\n",
       "Name: netChange, Length: 234, dtype: float64"
      ]
     },
     "execution_count": 17,
     "metadata": {},
     "output_type": "execute_result"
    }
   ],
   "source": [
    "df[\"netChange\"].fillna(df[\"netChange\"].median())"
   ]
  },
  {
   "cell_type": "code",
   "execution_count": 18,
   "metadata": {},
   "outputs": [
    {
     "data": {
      "text/plain": [
       "np.int64(5)"
      ]
     },
     "execution_count": 18,
     "metadata": {},
     "output_type": "execute_result"
    }
   ],
   "source": [
    "df[\"netChange\"].isnull().sum()"
   ]
  },
  {
   "cell_type": "code",
   "execution_count": 19,
   "metadata": {},
   "outputs": [
    {
     "data": {
      "text/plain": [
       "np.int64(6)"
      ]
     },
     "execution_count": 19,
     "metadata": {},
     "output_type": "execute_result"
    }
   ],
   "source": [
    "df[\"worldPercentage\"].isnull().sum()"
   ]
  },
  {
   "cell_type": "code",
   "execution_count": 20,
   "metadata": {},
   "outputs": [
    {
     "data": {
      "text/plain": [
       "worldPercentage\n",
       "0.0000    51\n",
       "0.0001    18\n",
       "0.0007    12\n",
       "0.0004    11\n",
       "0.0002    10\n",
       "          ..\n",
       "0.0026     1\n",
       "0.0034     1\n",
       "0.0035     1\n",
       "0.0036     1\n",
       "0.0010     1\n",
       "Name: count, Length: 75, dtype: int64"
      ]
     },
     "execution_count": 20,
     "metadata": {},
     "output_type": "execute_result"
    }
   ],
   "source": [
    "df[\"worldPercentage\"].value_counts()"
   ]
  },
  {
   "cell_type": "code",
   "execution_count": 21,
   "metadata": {},
   "outputs": [
    {
     "name": "stderr",
     "output_type": "stream",
     "text": [
      "C:\\Users\\namra\\AppData\\Local\\Temp\\ipykernel_11964\\3865844888.py:1: FutureWarning: A value is trying to be set on a copy of a DataFrame or Series through chained assignment using an inplace method.\n",
      "The behavior will change in pandas 3.0. This inplace method will never work because the intermediate object on which we are setting values always behaves as a copy.\n",
      "\n",
      "For example, when doing 'df[col].method(value, inplace=True)', try using 'df.method({col: value}, inplace=True)' or df[col] = df[col].method(value) instead, to perform the operation inplace on the original object.\n",
      "\n",
      "\n",
      "  df['worldPercentage'].fillna(0, inplace=True)\n"
     ]
    }
   ],
   "source": [
    "df['worldPercentage'].fillna(0, inplace=True)"
   ]
  },
  {
   "cell_type": "code",
   "execution_count": 22,
   "metadata": {},
   "outputs": [
    {
     "data": {
      "text/plain": [
       "np.int64(0)"
      ]
     },
     "execution_count": 22,
     "metadata": {},
     "output_type": "execute_result"
    }
   ],
   "source": [
    "df['worldPercentage'].isnull().sum()"
   ]
  },
  {
   "cell_type": "code",
   "execution_count": 23,
   "metadata": {},
   "outputs": [
    {
     "data": {
      "image/png": "[encoded data removed]",
      "text/plain": [
       "<Figure size 1000x600 with 1 Axes>"
      ]
     },
     "metadata": {},
     "output_type": "display_data"
    }
   ],
   "source": [
    "\n",
    "for col in ['pop1980', 'pop2000', 'pop2010', 'pop2023']:\n",
    "    df[col] = pd.to_numeric(df[col], errors='coerce')\n",
    "\n",
    "# Calculate the global population for each year (1980, 2000, 2010, 2023)\n",
    "historical_years = ['pop1980', 'pop2000', 'pop2010', 'pop2023']\n",
    "global_population_historical = df[historical_years].sum()\n",
    "\n",
    "# Plot the global population trend from 1980 to 2023\n",
    "plt.figure(figsize=(10, 6))\n",
    "plt.plot(['1980', '2000', '2010', '2023'], global_population_historical, marker='o', color='b', linestyle='-', linewidth=2, markersize=8)\n",
    "plt.title('Global Population Trends (1980-2023)', fontsize=14)\n",
    "plt.xlabel('Year', fontsize=12)\n",
    "plt.ylabel('Global Population (Billions)', fontsize=12)\n",
    "plt.grid(True)\n",
    "plt.show()\n"
   ]
  },
  {
   "cell_type": "code",
   "execution_count": 24,
   "metadata": {},
   "outputs": [
    {
     "data": {
      "image/png": "[encoded data removed]",
      "text/plain": [
       "<Figure size 1000x600 with 1 Axes>"
      ]
     },
     "metadata": {},
     "output_type": "display_data"
    }
   ],
   "source": [
    "# Convert future population columns to numeric\n",
    "for col in ['pop2024', 'pop2030', 'pop2050']:\n",
    "    df[col] = pd.to_numeric(df[col], errors='coerce')\n",
    "\n",
    "# Calculate global population projections for 2024, 2030, and 2050\n",
    "future_years = ['pop2024', 'pop2030', 'pop2050']\n",
    "global_population_future = df[future_years].sum()\n",
    "\n",
    "# Combine historical and future data for a continuous trend line\n",
    "years = ['1980', '2000', '2010', '2023', '2024', '2030', '2050']\n",
    "global_population_combined = pd.concat([global_population_historical, global_population_future])\n",
    "\n",
    "# Plot historical and future population trends\n",
    "plt.figure(figsize=(10, 6))\n",
    "plt.plot(years, global_population_combined, marker='o', color='g', linestyle='-', linewidth=2, markersize=8)\n",
    "plt.title('Global Population Trends (1980-2050)', fontsize=14)\n",
    "plt.xlabel('Year', fontsize=12)\n",
    "plt.ylabel('Global Population (Billions)', fontsize=12)\n",
    "plt.grid(True)\n",
    "plt.show()\n"
   ]
  },
  {
   "cell_type": "code",
   "execution_count": 25,
   "metadata": {},
   "outputs": [
    {
     "data": {
      "text/plain": [
       "(np.float64(22.598284376190062), np.float64(5.901443862484075))"
      ]
     },
     "execution_count": 25,
     "metadata": {},
     "output_type": "execute_result"
    }
   ],
   "source": [
    "# Calculate historical growth rates between 1980 and 2023\n",
    "historical_growth_rates = []\n",
    "\n",
    "# Years considered for historical growth\n",
    "historical_periods = [('pop1980', 'pop2000'), ('pop2000', 'pop2010'), ('pop2010', 'pop2023')]\n",
    "\n",
    "# Calculate percentage growth rate for each period\n",
    "for start, end in historical_periods:\n",
    "    growth_rate = ((df[end].sum() - df[start].sum()) / df[start].sum()) * 100\n",
    "    historical_growth_rates.append(growth_rate)\n",
    "\n",
    "# Average historical growth rate\n",
    "avg_historical_growth_rate = sum(historical_growth_rates) / len(historical_growth_rates)\n",
    "\n",
    "# Calculate projected growth rate between 2023 and 2030\n",
    "pop2023 = df['pop2023'].sum()\n",
    "pop2030 = df['pop2030'].sum()\n",
    "projected_growth_2023_2030 = ((pop2030 - pop2023) / pop2023) * 100\n",
    "\n",
    "avg_historical_growth_rate, projected_growth_2023_2030\n"
   ]
  },
  {
   "cell_type": "markdown",
   "metadata": {},
   "source": [
    "The result, which provides two growth rates:\n",
    "\n",
    "- **Historical Average Growth Rate:** 22.6%\n",
    "- **Projected Growth Rate for 2023-2030:** 5.9%\n",
    "\n",
    "### Interpretation:\n",
    "1. **Historical Average Growth Rate (22.6%)**: This represents the average rate of global population growth across historical intervals (1980-2000, 2000-2010, and 2010-2023). This figure indicates a relatively high rate of population increase over those periods.\n",
    "\n",
    "2. **Projected Growth Rate for 2023-2030 (5.9%)**: The expected rate of growth from 2023 to 2030 is notably lower than the historical average.\n"
   ]
  },
  {
   "cell_type": "markdown",
   "metadata": {},
   "source": [
    "- **Historical Average Growth Rate:** 22.6%\n",
    "- **Projected Growth Rate for 2023-2050:** 19.9%"
   ]
  },
  {
   "cell_type": "code",
   "execution_count": 61,
   "metadata": {},
   "outputs": [
    {
     "data": {
      "text/plain": [
       "np.float64(19.44010253082564)"
      ]
     },
     "execution_count": 62,
     "metadata": {},
     "output_type": "execute_result"
    }
   ],
   "source": [
    "# Calculate projected growth rate between 2023 and 2050\n",
    "pop2050 = df['pop2050'].sum()\n",
    "projected_growth_2023_2050 = ((pop2050 - pop2023) / pop2023) * 100\n",
    "\n",
    "projected_growth_2023_2050\n"
   ]
  },
  {
   "cell_type": "markdown",
   "metadata": {},
   "source": [
    "Given these growth rates:\n",
    "\n",
    "- **Historical Average Growth Rate:** 22.6%\n",
    "- **Projected Growth Rate for 2023-2050:** 19.4%\n",
    "\n",
    "we observe that the projected growth rate to 2050 is lower than the historical average, though the difference (3.2 percentage points) is less pronounced than the difference we saw for 2030.\n",
    "\n",
    "### Hypothesis Testing Setup:\n",
    "To formally test if the projected growth rate for 2023-2050 differs significantly from historical growth:\n",
    "\n",
    "1. **Null Hypothesis (H₀)**: There is no significant difference between the historical average growth rate (22.6%) and the projected growth rate for 2023-2050 (19.4%).\n",
    "   \n",
    "2. **Alternative Hypothesis (H₁)**: The projected growth rate for 2023-2050 (19.4%) significantly deviates from the historical average growth rate (22.6%).\n",
    "\n",
    "### Interpretation:\n",
    "If we were to conduct a **t-test** for the mean difference, we would examine whether the difference is statistically significant. \n",
    "\n",
    "- **If p-value < 0.05**: We reject the null hypothesis, suggesting that the projected rate for 2050 is statistically different from the historical average, indicating a likely deceleration in growth.\n",
    "- **If p-value ≥ 0.05**: We fail to reject the null hypothesis, meaning the projected growth rate for 2050 aligns with historical trends.\n",
    "\n",
    "### Practical Interpretation:\n",
    "The lower projected rate indicates that global population growth may be expected to slow, albeit less sharply than the 2023-2030 period. This deceleration could reflect demographic changes, such as aging populations and declining birth rates, affecting many regions."
   ]
  },
  {
   "cell_type": "code",
   "execution_count": 59,
   "metadata": {},
   "outputs": [
    {
     "data": {
      "text/plain": [
       "np.float64(6777204786.8)"
      ]
     },
     "execution_count": 59,
     "metadata": {},
     "output_type": "execute_result"
    }
   ],
   "source": [
    "historical_periods = ['pop1980', 'pop2000', 'pop2010', 'pop2023', 'pop2024']\n",
    "\n",
    "total_population = 0\n",
    "\n",
    "for year in historical_periods:\n",
    "    total_population += df[year].sum()\n",
    "    \n",
    "avg_pop_hist_years = total_population / len(historical_periods)\n",
    "avg_pop_hist_years\n",
    "    "
   ]
  },
  {
   "cell_type": "markdown",
   "metadata": {},
   "source": [
    "### Find top and bottom countries by `netChange` and `growthRate`\n"
   ]
  },
  {
   "cell_type": "code",
   "execution_count": 63,
   "metadata": {},
   "outputs": [
    {
     "name": "stdout",
     "output_type": "stream",
     "text": [
      "Top 10 by netChange:\n",
      "           country  netChange  growthRate\n",
      "0           India     0.4119      0.0089\n",
      "5         Nigeria     0.1526      0.0210\n",
      "4        Pakistan     0.1225      0.0152\n",
      "14       DR Congo     0.1115      0.0330\n",
      "9        Ethiopia     0.1080      0.0262\n",
      "3       Indonesia     0.0719      0.0082\n",
      "7      Bangladesh     0.0669      0.0122\n",
      "21       Tanzania     0.0622      0.0292\n",
      "12          Egypt     0.0608      0.0175\n",
      "2   United States     0.0600      0.0057\n",
      "\n",
      "Bottom 10 by netChange:\n",
      "            country  netChange  growthRate\n",
      "1            China    -0.1006     -0.0023\n",
      "8           Russia    -0.0244     -0.0043\n",
      "11           Japan    -0.0202     -0.0050\n",
      "38          Poland    -0.0109     -0.0058\n",
      "18         Germany    -0.0091      0.0000\n",
      "24           Italy    -0.0058     -0.0026\n",
      "94          Greece    -0.0056     -0.0190\n",
      "88  Czech Republic    -0.0035     -0.0068\n",
      "66         Romania    -0.0033     -0.0054\n",
      "59          Taiwan    -0.0032     -0.0044\n",
      "\n",
      "Top 10 by growthRate:\n",
      "                       country  growthRate  netChange\n",
      "64                       Chad      0.0507     0.0272\n",
      "122                      Oman      0.0460     0.0074\n",
      "56                      Syria      0.0457     0.0316\n",
      "231                   Tokelau      0.0455     0.0000\n",
      "80                South Sudan      0.0401     0.0078\n",
      "85       United Arab Emirates      0.0362     0.0119\n",
      "67                    Somalia      0.0354     0.0205\n",
      "121  Central African Republic      0.0346     0.0057\n",
      "53                      Niger      0.0334     0.0279\n",
      "181                   Mayotte      0.0332     0.0003\n",
      "\n",
      "Bottom 10 by growthRate:\n",
      "                           country  growthRate  netChange\n",
      "220                  Saint Martin     -0.0504     0.0000\n",
      "223                  Cook Islands     -0.0347     0.0000\n",
      "218              Marshall Islands     -0.0329     0.0000\n",
      "212      Northern Mariana Islands     -0.0192     0.0000\n",
      "94                         Greece     -0.0190    -0.0056\n",
      "227                        Tuvalu     -0.0173     0.0000\n",
      "210                American Samoa     -0.0159     0.0000\n",
      "137                       Moldova     -0.0105    -0.0012\n",
      "200  United States Virgin Islands     -0.0093     0.0000\n",
      "228     Saint Pierre and Miquelon     -0.0093     0.0000\n"
     ]
    }
   ],
   "source": [
    "\n",
    "# Top 10 countries by `netChange`\n",
    "top_netChange = df.nlargest(10, 'netChange')[['country', 'netChange', 'growthRate']]\n",
    "print(\"Top 10 by netChange:\\n\", top_netChange)\n",
    "\n",
    "# Bottom 10 countries by `netChange`\n",
    "bottom_netChange = df.nsmallest(10, 'netChange')[['country', 'netChange', 'growthRate']]\n",
    "print(\"\\nBottom 10 by netChange:\\n\", bottom_netChange)\n",
    "\n",
    "# Top 10 countries by `growthRate`\n",
    "top_growthRate = df.nlargest(10, 'growthRate')[['country', 'growthRate', 'netChange']]\n",
    "print(\"\\nTop 10 by growthRate:\\n\", top_growthRate)\n",
    "\n",
    "# Bottom 10 countries by `growthRate`\n",
    "bottom_growthRate = df.nsmallest(10, 'growthRate')[['country', 'growthRate', 'netChange']]\n",
    "print(\"\\nBottom 10 by growthRate:\\n\", bottom_growthRate)\n"
   ]
  },
  {
   "cell_type": "code",
   "execution_count": 65,
   "metadata": {},
   "outputs": [
    {
     "data": {
      "image/png": "[encoded data removed]",
      "text/plain": [
       "<Figure size 1000x600 with 1 Axes>"
      ]
     },
     "metadata": {},
     "output_type": "display_data"
    },
    {
     "data": {
      "image/png": "[encoded data removed]",
      "text/plain": [
       "<Figure size 1000x600 with 1 Axes>"
      ]
     },
     "metadata": {},
     "output_type": "display_data"
    },
    {
     "data": {
      "image/png": "[encoded data removed]",
      "text/plain": [
       "<Figure size 1000x600 with 1 Axes>"
      ]
     },
     "metadata": {},
     "output_type": "display_data"
    },
    {
     "data": {
      "image/png": "[encoded data removed]",
      "text/plain": [
       "<Figure size 1000x600 with 1 Axes>"
      ]
     },
     "metadata": {},
     "output_type": "display_data"
    }
   ],
   "source": [
    "def plot_bar(data, column, title, xlabel, ylabel):\n",
    "    plt.figure(figsize=(10, 6))\n",
    "    plt.barh(data['country'], data[column], color='skyblue')\n",
    "    plt.title(title)\n",
    "    plt.xlabel(xlabel)\n",
    "    plt.ylabel(ylabel)\n",
    "    plt.gca().invert_yaxis()  # Invert y-axis for better readability\n",
    "    plt.show()\n",
    "\n",
    "# Plot Top 10 countries by netChange\n",
    "plot_bar(top_netChange, 'netChange', 'Top 10 Countries by netChange', 'netChange', 'Country')\n",
    "\n",
    "# Plot Bottom 10 countries by netChange\n",
    "plot_bar(bottom_netChange, 'netChange', 'Bottom 10 Countries by netChange', 'netChange', 'Country')\n",
    "\n",
    "# Plot Top 10 countries by growthRate\n",
    "plot_bar(top_growthRate, 'growthRate', 'Top 10 Countries by Growth Rate', 'Growth Rate (%)', 'Country')\n",
    "\n",
    "# Plot Bottom 10 countries by growthRate\n",
    "plot_bar(bottom_growthRate, 'growthRate', 'Bottom 10 Countries by Growth Rate', 'Growth Rate (%)', 'Country')\n"
   ]
  },
  {
   "cell_type": "code",
   "execution_count": null,
   "metadata": {},
   "outputs": [],
   "source": []
  }
 ],
 "metadata": {
  "kernelspec": {
   "display_name": "Python 3",
   "language": "python",
   "name": "python3"
  },
  "language_info": {
   "codemirror_mode": {
    "name": "ipython",
    "version": 3
   },
   "file_extension": ".py",
   "mimetype": "text/x-python",
   "name": "python",
   "nbconvert_exporter": "python",
   "pygments_lexer": "ipython3",
   "version": "3.12.7"
  }
 },
 "nbformat": 4,
 "nbformat_minor": 2
}
